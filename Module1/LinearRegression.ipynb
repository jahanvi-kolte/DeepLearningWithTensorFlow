{
 "cells": [
  {
   "cell_type": "raw",
   "metadata": {},
   "source": [
    "When more than one independent variable is present the process is called multiple linear regression. \n",
    "When multiple dependent variables are predicted the process is known as multivariate linear regression."
   ]
  },
  {
   "cell_type": "code",
   "execution_count": 1,
   "metadata": {},
   "outputs": [
    {
     "name": "stderr",
     "output_type": "stream",
     "text": [
      "/anaconda3/lib/python3.6/site-packages/h5py/__init__.py:36: FutureWarning: Conversion of the second argument of issubdtype from `float` to `np.floating` is deprecated. In future, it will be treated as `np.float64 == np.dtype(float).type`.\n",
      "  from ._conv import register_converters as _register_converters\n"
     ]
    }
   ],
   "source": [
    "import numpy as np\n",
    "import tensorflow as tf\n",
    "import matplotlib.patches as mpatches\n",
    "import matplotlib.pyplot as plt\n",
    "%matplotlib inline\n",
    "plt.rcParams['figure.figsize'] = (10, 6)"
   ]
  },
  {
   "cell_type": "code",
   "execution_count": 2,
   "metadata": {},
   "outputs": [
    {
     "data": {
      "text/plain": [
       "array([0. , 0.1, 0.2, 0.3, 0.4, 0.5, 0.6, 0.7, 0.8, 0.9, 1. , 1.1, 1.2,\n",
       "       1.3, 1.4, 1.5, 1.6, 1.7, 1.8, 1.9, 2. , 2.1, 2.2, 2.3, 2.4, 2.5,\n",
       "       2.6, 2.7, 2.8, 2.9, 3. , 3.1, 3.2, 3.3, 3.4, 3.5, 3.6, 3.7, 3.8,\n",
       "       3.9, 4. , 4.1, 4.2, 4.3, 4.4, 4.5, 4.6, 4.7, 4.8, 4.9])"
      ]
     },
     "execution_count": 2,
     "metadata": {},
     "output_type": "execute_result"
    }
   ],
   "source": [
    "X = np.arange(0.0, 5.0, 0.1)\n",
    "X"
   ]
  },
  {
   "cell_type": "code",
   "execution_count": 3,
   "metadata": {},
   "outputs": [
    {
     "data": {
      "image/png": "[encoded data removed]",
      "text/plain": [
       "<matplotlib.figure.Figure at 0x181f2956a0>"
      ]
     },
     "metadata": {},
     "output_type": "display_data"
    }
   ],
   "source": [
    "a=1\n",
    "b=0\n",
    "\n",
    "Y= a*X + b \n",
    "\n",
    "plt.plot(X,Y) \n",
    "plt.ylabel('Dependent Variable')\n",
    "plt.xlabel('Indepdendent Variable')\n",
    "plt.show()"
   ]
  },
  {
   "cell_type": "code",
   "execution_count": 4,
   "metadata": {},
   "outputs": [
    {
     "data": {
      "text/plain": [
       "array([0.8345372 , 0.9195624 , 0.9636074 , 0.15657277, 0.4988282 ,\n",
       "       0.9432966 , 0.07671034, 0.89852166, 0.64419657, 0.8901564 ,\n",
       "       0.5090263 , 0.6165975 , 0.79981214, 0.3345973 , 0.18081225,\n",
       "       0.45292887, 0.36934787, 0.8880275 , 0.7231264 , 0.5318511 ,\n",
       "       0.87794906, 0.1627322 , 0.13919736, 0.5131512 , 0.9304176 ,\n",
       "       0.46528083, 0.33744463, 0.7675902 , 0.07892641, 0.35564736,\n",
       "       0.8996979 , 0.75483453, 0.126953  , 0.10775767, 0.17430976,\n",
       "       0.5216192 , 0.6601587 , 0.31668356, 0.5011999 , 0.9784747 ,\n",
       "       0.72828364, 0.46567073, 0.4080569 , 0.8540138 , 0.68354845,\n",
       "       0.5814244 , 0.14597476, 0.3296168 , 0.95462984, 0.89765835,\n",
       "       0.7096414 , 0.00509136, 0.3081814 , 0.19937195, 0.60579824,\n",
       "       0.62082064, 0.3087329 , 0.5658246 , 0.18527506, 0.4643991 ,\n",
       "       0.3158144 , 0.46047074, 0.46820474, 0.49310794, 0.8731368 ,\n",
       "       0.54921436, 0.63106316, 0.04108281, 0.8698983 , 0.06071746,\n",
       "       0.8675404 , 0.80092144, 0.8472254 , 0.769509  , 0.14497782,\n",
       "       0.7599497 , 0.525002  , 0.45873123, 0.8564052 , 0.53087944,\n",
       "       0.9224117 , 0.6458208 , 0.33365896, 0.47134584, 0.845256  ,\n",
       "       0.83931136, 0.9952321 , 0.98920524, 0.24232106, 0.9797894 ,\n",
       "       0.38940427, 0.51095295, 0.250812  , 0.02232299, 0.9960675 ,\n",
       "       0.22525077, 0.37344912, 0.7787121 , 0.88337904, 0.04583857],\n",
       "      dtype=float32)"
      ]
     },
     "execution_count": 4,
     "metadata": {},
     "output_type": "execute_result"
    }
   ],
   "source": [
    "x_data = np.random.rand(100).astype(np.float32)\n",
    "x_data"
   ]
  },
  {
   "cell_type": "code",
   "execution_count": 5,
   "metadata": {},
   "outputs": [],
   "source": [
    "y_data = x_data * 3 + 2"
   ]
  },
  {
   "cell_type": "code",
   "execution_count": 6,
   "metadata": {},
   "outputs": [],
   "source": [
    "#add Gaussian noise\n",
    "#loc - mean\n",
    "#scale - std dev\n",
    "y_data = np.vectorize(lambda y: y + np.random.normal(loc=0.0, scale=0.1))(y_data)"
   ]
  },
  {
   "cell_type": "code",
   "execution_count": 8,
   "metadata": {},
   "outputs": [
    {
     "data": {
      "text/plain": [
       "array([4.39183111, 4.6239468 , 5.02540131, 2.50686708, 3.3350125 ,\n",
       "       4.76558454, 2.30935081, 4.9277629 , 3.734493  , 4.46211379,\n",
       "       3.64750497, 3.67832075, 4.18732216, 3.22304874, 2.41412266,\n",
       "       3.25329594, 3.04049097, 4.54663185, 4.04275984, 3.81292042,\n",
       "       4.60265728, 2.42043884, 2.4299533 , 3.54786584, 4.6576716 ,\n",
       "       3.24609385, 3.24740286, 4.33960214, 2.25675346, 3.03849665,\n",
       "       4.60692085, 4.21776623, 2.4224551 , 2.39687814, 2.26790363,\n",
       "       3.8051181 , 4.0058439 , 3.05602582, 3.42981118, 5.07800456,\n",
       "       4.24044865, 3.40446473, 3.21522782, 4.4434709 , 3.94089094,\n",
       "       3.75801086, 2.48567227, 2.81185652, 4.84234128, 4.7546118 ,\n",
       "       3.97582624, 1.85563685, 2.78677886, 2.81507442, 3.96680607,\n",
       "       3.89453449, 2.88442383, 3.71399439, 2.42136573, 3.53398684,\n",
       "       2.87120966, 3.3744827 , 3.38997694, 3.56319177, 4.6950536 ,\n",
       "       3.7285091 , 3.89200993, 2.03784239, 4.60887029, 2.15712967,\n",
       "       4.72451158, 4.51728136, 4.52193958, 4.14490895, 2.51063867,\n",
       "       4.21023642, 3.33979589, 3.419804  , 4.58263087, 3.67547485,\n",
       "       4.80576514, 3.9377923 , 3.00670187, 3.35143031, 4.62143997,\n",
       "       4.5338215 , 4.92149673, 4.97707584, 2.85616453, 4.99835542,\n",
       "       2.89699302, 3.49804741, 2.73953646, 2.16450237, 5.07581805,\n",
       "       2.54950571, 3.29282182, 4.48781862, 4.58287688, 2.28664971])"
      ]
     },
     "execution_count": 8,
     "metadata": {},
     "output_type": "execute_result"
    }
   ],
   "source": [
    "y_data"
   ]
  },
  {
   "cell_type": "code",
   "execution_count": 9,
   "metadata": {},
   "outputs": [],
   "source": [
    "#Random Initialization\n",
    "a = tf.Variable(1.0)\n",
    "b = tf.Variable(0.2)\n",
    "y = a * x_data + b"
   ]
  },
  {
   "cell_type": "code",
   "execution_count": 10,
   "metadata": {},
   "outputs": [],
   "source": [
    "loss = tf.reduce_mean(tf.square(y - y_data))"
   ]
  },
  {
   "cell_type": "code",
   "execution_count": 12,
   "metadata": {},
   "outputs": [],
   "source": [
    "optimizer = tf.train.GradientDescentOptimizer(0.5)"
   ]
  },
  {
   "cell_type": "code",
   "execution_count": 13,
   "metadata": {},
   "outputs": [],
   "source": [
    "train = optimizer.minimize(loss)"
   ]
  },
  {
   "cell_type": "code",
   "execution_count": 14,
   "metadata": {},
   "outputs": [],
   "source": [
    "init = tf.global_variables_initializer()\n",
    "sess = tf.Session()\n",
    "sess.run(init)"
   ]
  },
  {
   "cell_type": "code",
   "execution_count": 15,
   "metadata": {},
   "outputs": [
    {
     "name": "stdout",
     "output_type": "stream",
     "text": [
      "0 [2.7585645, 3.0930943]\n",
      "5 [2.5202806, 2.2712433]\n",
      "10 [2.6524713, 2.1969817]\n",
      "15 [2.7464845, 2.1417515]\n",
      "20 [2.8141084, 2.1020327]\n",
      "25 [2.862748, 2.0734644]\n",
      "30 [2.8977327, 2.0529163]\n",
      "35 [2.9228961, 2.0381367]\n",
      "40 [2.9409955, 2.027506]\n",
      "45 [2.9540136, 2.01986]\n",
      "50 [2.9633768, 2.0143607]\n",
      "55 [2.9701111, 2.010405]\n",
      "60 [2.9749553, 2.0075598]\n",
      "65 [2.9784393, 2.0055137]\n",
      "70 [2.9809453, 2.0040417]\n",
      "75 [2.9827478, 2.0029829]\n",
      "80 [2.9840443, 2.0022216]\n",
      "85 [2.9849768, 2.001674]\n",
      "90 [2.9856474, 2.0012798]\n",
      "95 [2.98613, 2.0009966]\n"
     ]
    }
   ],
   "source": [
    "train_data = []\n",
    "for step in range(100):\n",
    "    evals = sess.run([train,a,b])[1:]\n",
    "    if step % 5 == 0:\n",
    "        print(step, evals)\n",
    "        train_data.append(evals)"
   ]
  },
  {
   "cell_type": "code",
   "execution_count": 16,
   "metadata": {},
   "outputs": [
    {
     "data": {
      "image/png": "[encoded data removed]",
      "text/plain": [
       "<matplotlib.figure.Figure at 0x181f4bb3c8>"
      ]
     },
     "metadata": {},
     "output_type": "display_data"
    }
   ],
   "source": [
    "converter = plt.colors\n",
    "cr, cg, cb = (1.0, 1.0, 0.0)\n",
    "for f in train_data:\n",
    "    cb += 1.0 / len(train_data)\n",
    "    cg -= 1.0 / len(train_data)\n",
    "    if cb > 1.0: cb = 1.0\n",
    "    if cg < 0.0: cg = 0.0\n",
    "    [a, b] = f\n",
    "    f_y = np.vectorize(lambda x: a*x + b)(x_data)\n",
    "    line = plt.plot(x_data, f_y)\n",
    "    plt.setp(line, color=(cr,cg,cb))\n",
    "\n",
    "plt.plot(x_data, y_data, 'ro')\n",
    "\n",
    "\n",
    "green_line = mpatches.Patch(color='red', label='Data Points')\n",
    "\n",
    "plt.legend(handles=[green_line])\n",
    "\n",
    "plt.show()"
   ]
  },
  {
   "cell_type": "code",
   "execution_count": null,
   "metadata": {},
   "outputs": [],
   "source": []
  }
 ],
 "metadata": {
  "kernelspec": {
   "display_name": "Python 3",
   "language": "python",
   "name": "python3"
  },
  "language_info": {
   "codemirror_mode": {
    "name": "ipython",
    "version": 3
   },
   "file_extension": ".py",
   "mimetype": "text/x-python",
   "name": "python",
   "nbconvert_exporter": "python",
   "pygments_lexer": "ipython3",
   "version": "3.6.4"
  }
 },
 "nbformat": 4,
 "nbformat_minor": 2
}
